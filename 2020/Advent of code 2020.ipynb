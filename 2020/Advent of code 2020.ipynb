{
 "cells": [
  {
   "cell_type": "code",
   "execution_count": null,
   "metadata": {},
   "outputs": [],
   "source": []
  },
  {
   "cell_type": "markdown",
   "metadata": {},
   "source": [
    "# Day 1: Report Repair\n",
    "After saving Christmas five years in a row, you've decided to take a vacation at a nice resort on a tropical island. Surely, Christmas will go on without you.\n",
    "\n",
    "The tropical island has its own currency and is entirely cash-only. The gold coins used there have a little picture of a starfish; the locals just call them stars. None of the currency exchanges seem to have heard of them, but somehow, you'll need to find fifty of these coins by the time you arrive so you can pay the deposit on your room.\n",
    "\n",
    "To save your vacation, you need to get all fifty stars by December 25th.\n",
    "\n",
    "Collect stars by solving puzzles. Two puzzles will be made available on each day in the Advent calendar; the second puzzle is unlocked when you complete the first. Each puzzle grants one star. Good luck!\n",
    "\n",
    "Before you leave, the Elves in accounting just need you to fix your expense report (your puzzle input); apparently, something isn't quite adding up.\n",
    "\n",
    "Specifically, they need you to find the two entries that sum to 2020 and then multiply those two numbers together.\n",
    "\n",
    "For example, suppose your expense report contained the following:\n",
    "\n",
    "1721\n",
    "979\n",
    "366\n",
    "299\n",
    "675\n",
    "1456\n",
    "In this list, the two entries that sum to 2020 are 1721 and 299. Multiplying them together produces 1721 * 299 = 514579, so the correct answer is 514579.\n",
    "\n",
    "Of course, your expense report is much larger. Find the two entries that sum to 2020; what do you get if you multiply them together?\n",
    "\n",
    "Your puzzle answer was 482811.\n",
    "\n"
   ]
  },
  {
   "cell_type": "code",
   "execution_count": 1,
   "metadata": {},
   "outputs": [],
   "source": [
    "ex_1 = 'Files/01_ex.txt'\n",
    "pr_1 ='Files/01_pro.txt'\n",
    "f = open(pr_1, \"r\")\n",
    "f1 = f.read()"
   ]
  },
  {
   "cell_type": "code",
   "execution_count": 2,
   "metadata": {},
   "outputs": [
    {
     "data": {
      "text/plain": [
       "482811"
      ]
     },
     "execution_count": 2,
     "metadata": {},
     "output_type": "execute_result"
    }
   ],
   "source": [
    "f1_list = f1.split('\\n')\n",
    "def adding(li):\n",
    "    for item1 in li:\n",
    "        li.remove(li[0])\n",
    "        for item2 in li:\n",
    "            if int(item1) + int(item2) == 2020:\n",
    "                return int(item1) * int(item2)\n",
    "adding(f1_list)\n",
    "        "
   ]
  },
  {
   "cell_type": "markdown",
   "metadata": {},
   "source": [
    "# --- Part Two ---\n",
    "The Elves in accounting are thankful for your help; one of them even offers you a starfish coin they had left over from a past vacation. They offer you a second one if you can find three numbers in your expense report that meet the same criteria.\n",
    "\n",
    "Using the above example again, the three entries that sum to 2020 are 979, 366, and 675. Multiplying them together produces the answer, 241861950.\n",
    "\n",
    "In your expense report, what is the product of the three entries that sum to 2020?\n",
    "\n",
    "Your puzzle answer was 193171814.\n",
    "\n"
   ]
  },
  {
   "cell_type": "code",
   "execution_count": 224,
   "metadata": {
    "scrolled": true
   },
   "outputs": [
    {
     "data": {
      "text/plain": [
       "193171814"
      ]
     },
     "execution_count": 224,
     "metadata": {},
     "output_type": "execute_result"
    }
   ],
   "source": [
    "ex_1 = 'Files/01_ex.txt'\n",
    "pr_1 ='Files/01_pro.txt'\n",
    "f = open(pr_1, \"r\")\n",
    "f1 = f.read()\n",
    "f1_list = f1.split('\\n')\n",
    "def adding(li):\n",
    "    for item1 in li:\n",
    "        li.remove(li[0])\n",
    "        for item2 in li:            \n",
    "            for item3 in li:\n",
    "                if int(item1) + int(item2) + int(item3) == 2020:\n",
    "                    return int(item1) * int(item2)* int(item3)\n",
    "adding(f1_list)\n"
   ]
  },
  {
   "cell_type": "code",
   "execution_count": 223,
   "metadata": {},
   "outputs": [
    {
     "data": {
      "text/plain": [
       "['1860', '1428', '1706', '1432', '1532']"
      ]
     },
     "execution_count": 223,
     "metadata": {},
     "output_type": "execute_result"
    }
   ],
   "source": [
    "f1_list"
   ]
  },
  {
   "cell_type": "markdown",
   "metadata": {},
   "source": [
    "# --- Day 2: Password Philosophy ---\n",
    "Your flight departs in a few days from the coastal airport; the easiest way down to the coast from here is via toboggan.\n",
    "\n",
    "The shopkeeper at the North Pole Toboggan Rental Shop is having a bad day. \"Something's wrong with our computers; we can't log in!\" You ask if you can take a look.\n",
    "\n",
    "Their password database seems to be a little corrupted: some of the passwords wouldn't have been allowed by the Official Toboggan Corporate Policy that was in effect when they were chosen.\n",
    "\n",
    "To try to debug the problem, they have created a list (your puzzle input) of passwords (according to the corrupted database) and the corporate policy when that password was set.\n",
    "\n",
    "For example, suppose you have the following list:\n",
    "\n",
    "1-3 a: abcde\n",
    "1-3 b: cdefg\n",
    "2-9 c: ccccccccc\n",
    "Each line gives the password policy and then the password. The password policy indicates the lowest and highest number of times a given letter must appear for the password to be valid. For example, 1-3 a means that the password must contain a at least 1 time and at most 3 times.\n",
    "\n",
    "In the above example, 2 passwords are valid. The middle password, cdefg, is not; it contains no instances of b, but needs at least 1. The first and third passwords are valid: they contain one a or nine c, both within the limits of their respective policies.\n",
    "\n",
    "How many passwords are valid according to their policies?\n",
    "\n",
    "Your puzzle answer was 434.\n",
    "\n",
    "\n"
   ]
  },
  {
   "cell_type": "code",
   "execution_count": 226,
   "metadata": {},
   "outputs": [],
   "source": [
    "import re\n",
    "ex_2 = 'Files/02_ex.txt'\n",
    "pr_2 ='Files/02_pro.txt'\n",
    "f = open(pr_2, \"r\")\n",
    "f1 = f.read()\n",
    "f1_list = f1.rsplit('\\n')"
   ]
  },
  {
   "cell_type": "code",
   "execution_count": 228,
   "metadata": {},
   "outputs": [
    {
     "data": {
      "text/plain": [
       "434"
      ]
     },
     "execution_count": 228,
     "metadata": {},
     "output_type": "execute_result"
    }
   ],
   "source": [
    "li1 = []\n",
    "for item1 in f1_list:\n",
    "    li1.append(re.split(': |-| ', item1))\n",
    "    li1\n",
    "# re.split('; |, |\\*|\\n',a)\n",
    "    \n",
    "def PasswordValidation(li1):\n",
    "    valid = 0\n",
    "    for item in li1:\n",
    "        count = 0\n",
    "        num1 = int(item[0])\n",
    "        num2 = int(item[1])\n",
    "        cha = item[2]\n",
    "        pwd = item[3]\n",
    "        if cha in  pwd:\n",
    "            count = pwd.count(cha)\n",
    "#             if  count >= num1 and count <= num2 :\n",
    "            if  num1 <= count <= num2 :\n",
    "#                 print('Valid',count, num1,num2,cha,pwd)\n",
    "                valid = valid+1\n",
    "        else :\n",
    "            pass\n",
    "\n",
    "    return valid\n",
    "PasswordValidation(li1)"
   ]
  },
  {
   "cell_type": "markdown",
   "metadata": {},
   "source": [
    "# --- Part Two ---\n",
    "While it appears you validated the passwords correctly, they don't seem to be what the Official Toboggan Corporate Authentication System is expecting.\n",
    "\n",
    "The shopkeeper suddenly realizes that he just accidentally explained the password policy rules from his old job at the sled rental place down the street! The Official Toboggan Corporate Policy actually works a little differently.\n",
    "\n",
    "Each policy actually describes two positions in the password, where 1 means the first character, 2 means the second character, and so on. (Be careful; Toboggan Corporate Policies have no concept of \"index zero\"!) Exactly one of these positions must contain the given letter. Other occurrences of the letter are irrelevant for the purposes of policy enforcement.\n",
    "\n",
    "Given the same example list from above:\n",
    "\n",
    "1-3 a: abcde is valid: position 1 contains a and position 3 does not.\n",
    "1-3 b: cdefg is invalid: neither position 1 nor position 3 contains b.\n",
    "2-9 c: ccccccccc is invalid: both position 2 and position 9 contain c.\n",
    "How many passwords are valid according to the new interpretation of the policies?\n",
    "\n",
    "Your puzzle answer was 509.\n",
    "\n"
   ]
  },
  {
   "cell_type": "code",
   "execution_count": 1,
   "metadata": {},
   "outputs": [
    {
     "data": {
      "text/plain": [
       "509"
      ]
     },
     "execution_count": 1,
     "metadata": {},
     "output_type": "execute_result"
    }
   ],
   "source": [
    "import re\n",
    "ex_2 = 'Files/02_ex.txt'\n",
    "pr_2 ='Files/02_pro.txt'\n",
    "f = open(pr_2, \"r\")\n",
    "f1 = f.read()\n",
    "f1_list = f1.rsplit('\\n')\n",
    "\n",
    "li1 = []\n",
    "li2 = []\n",
    "for item1 in f1_list:\n",
    "    li1.append(re.split(': |-| ', item1))\n",
    "# re.split('; |, |\\*|\\n',a)\n",
    "    \n",
    "def PasswordValidation(li1):\n",
    "    valid = 0\n",
    "    for item in li1:\n",
    "        count = 0\n",
    "        num1 = int(item[0])\n",
    "        num2 = int(item[1])\n",
    "        cha = item[2]\n",
    "        pwd = item[3]\n",
    "        if cha in  pwd:\n",
    "            if cha == pwd[num1-1]:\n",
    "                if cha != pwd[num2-1]:\n",
    "#                     print(\"valid\")\n",
    "                    valid = valid+1\n",
    "            if cha == pwd[num2-1]:\n",
    "                if cha != pwd[num1-1]:\n",
    "#                     print(\"valid\")\n",
    "                    valid = valid+1\n",
    "        else :\n",
    "            pass\n",
    "\n",
    "    return valid\n",
    "PasswordValidation(li1)"
   ]
  },
  {
   "cell_type": "markdown",
   "metadata": {},
   "source": [
    "# --- Day 3: Toboggan Trajectory ---\n",
    "With the toboggan login problems resolved, you set off toward the airport. While travel by toboggan might be easy, it's certainly not safe: there's very minimal steering and the area is covered in trees. You'll need to see which angles will take you near the fewest trees.\n",
    "\n",
    "Due to the local geology, trees in this area only grow on exact integer coordinates in a grid. You make a map (your puzzle input) of the open squares (.) and trees (#) you can see. For example:\n",
    "\n",
    "..##.......\n",
    "#...#...#..\n",
    ".#....#..#.\n",
    "..#.#...#.#\n",
    ".#...##..#.\n",
    "..#.##.....\n",
    ".#.#.#....#\n",
    ".#........#\n",
    "#.##...#...\n",
    "#...##....#\n",
    ".#..#...#.#\n",
    "These aren't the only trees, though; due to something you read about once involving arboreal genetics and biome stability, the same pattern repeats to the right many times:\n",
    "\n",
    "..##.........##.........##.........##.........##.........##.......  --->\n",
    "#...#...#..#...#...#..#...#...#..#...#...#..#...#...#..#...#...#..\n",
    ".#....#..#..#....#..#..#....#..#..#....#..#..#....#..#..#....#..#.\n",
    "..#.#...#.#..#.#...#.#..#.#...#.#..#.#...#.#..#.#...#.#..#.#...#.#\n",
    ".#...##..#..#...##..#..#...##..#..#...##..#..#...##..#..#...##..#.\n",
    "..#.##.......#.##.......#.##.......#.##.......#.##.......#.##.....  --->\n",
    ".#.#.#....#.#.#.#....#.#.#.#....#.#.#.#....#.#.#.#....#.#.#.#....#\n",
    ".#........#.#........#.#........#.#........#.#........#.#........#\n",
    "#.##...#...#.##...#...#.##...#...#.##...#...#.##...#...#.##...#...\n",
    "#...##....##...##....##...##....##...##....##...##....##...##....#\n",
    ".#..#...#.#.#..#...#.#.#..#...#.#.#..#...#.#.#..#...#.#.#..#...#.#  --->\n",
    "You start on the open square (.) in the top-left corner and need to reach the bottom (below the bottom-most row on your map).\n",
    "\n",
    "The toboggan can only follow a few specific slopes (you opted for a cheaper model that prefers rational numbers); start by counting all the trees you would encounter for the slope right 3, down 1:\n",
    "\n",
    "From your starting position at the top-left, check the position that is right 3 and down 1. Then, check the position that is right 3 and down 1 from there, and so on until you go past the bottom of the map.\n",
    "\n",
    "The locations you'd check in the above example are marked here with O where there was an open square and X where there was a tree:\n",
    "\n",
    "..##.........##.........##.........##.........##.........##.......  --->\n",
    "#..O#...#..#...#...#..#...#...#..#...#...#..#...#...#..#...#...#..\n",
    ".#....X..#..#....#..#..#....#..#..#....#..#..#....#..#..#....#..#.\n",
    "..#.#...#O#..#.#...#.#..#.#...#.#..#.#...#.#..#.#...#.#..#.#...#.#\n",
    ".#...##..#..X...##..#..#...##..#..#...##..#..#...##..#..#...##..#.\n",
    "..#.##.......#.X#.......#.##.......#.##.......#.##.......#.##.....  --->\n",
    ".#.#.#....#.#.#.#.O..#.#.#.#....#.#.#.#....#.#.#.#....#.#.#.#....#\n",
    ".#........#.#........X.#........#.#........#.#........#.#........#\n",
    "#.##...#...#.##...#...#.X#...#...#.##...#...#.##...#...#.##...#...\n",
    "#...##....##...##....##...#X....##...##....##...##....##...##....#\n",
    ".#..#...#.#.#..#...#.#.#..#...X.#.#..#...#.#.#..#...#.#.#..#...#.#  --->\n",
    "In this example, traversing the map using this slope would cause you to encounter 7 trees.\n",
    "\n",
    "Starting at the top-left corner of your map and following a slope of right 3 and down 1, how many trees would you encounter?\n",
    "\n",
    "Your puzzle answer was 220.\n",
    "\n"
   ]
  },
  {
   "cell_type": "code",
   "execution_count": 264,
   "metadata": {},
   "outputs": [],
   "source": [
    "import re\n",
    "ex_3 = 'Files/ex_3.txt'\n",
    "pro_3 ='Files/pro_3.txt'\n",
    "f = open(pro_3, \"r\")\n",
    "f1 = f.read()\n",
    "f1_list = f1.rsplit('\\n')\n"
   ]
  },
  {
   "cell_type": "code",
   "execution_count": 265,
   "metadata": {},
   "outputs": [],
   "source": [
    "new_list = []\n",
    "for item in f1_list:\n",
    "    new_list.append(item.replace('  --->',''))\n",
    "    "
   ]
  },
  {
   "cell_type": "code",
   "execution_count": 275,
   "metadata": {},
   "outputs": [
    {
     "name": "stdout",
     "output_type": "stream",
     "text": [
      "220\n"
     ]
    }
   ],
   "source": [
    "new_list\n",
    "count = 0\n",
    "i = 0\n",
    "j = 1\n",
    "for item in new_list:\n",
    "    item  = item*j\n",
    "#     print(item)\n",
    "    if item[i] == '#':\n",
    "        count += 1\n",
    "    i += 3\n",
    "    j += 2\n",
    "print(count)"
   ]
  },
  {
   "cell_type": "markdown",
   "metadata": {},
   "source": [
    "# --- Part Two ---\n",
    "Time to check the rest of the slopes - you need to minimize the probability of a sudden arboreal stop, after all.\n",
    "\n",
    "Determine the number of trees you would encounter if, for each of the following slopes, you start at the top-left corner and traverse the map all the way to the bottom:\n",
    "\n",
    "Right 1, down 1.\n",
    "Right 3, down 1. (This is the slope you already checked.)\n",
    "Right 5, down 1.\n",
    "Right 7, down 1.\n",
    "Right 1, down 2.\n",
    "In the above example, these slopes would find 2, 7, 3, 4, and 2 tree(s) respectively; multiplied together, these produce the answer 336.\n",
    "\n",
    "What do you get if you multiply together the number of trees encountered on each of the listed slopes?\n",
    "\n",
    "Your puzzle answer was 2138320800.\n",
    "\n"
   ]
  },
  {
   "cell_type": "code",
   "execution_count": 327,
   "metadata": {},
   "outputs": [
    {
     "name": "stdout",
     "output_type": "stream",
     "text": [
      "1 1 70 323\n",
      "3 1 220 969\n",
      "5 1 63 1615\n",
      "7 1 76 2261\n",
      "1 2 29 162\n",
      "[70, 220, 63, 76, 29]\n"
     ]
    },
    {
     "data": {
      "text/plain": [
       "2138320800"
      ]
     },
     "execution_count": 327,
     "metadata": {},
     "output_type": "execute_result"
    }
   ],
   "source": [
    "import re\n",
    "ex_3 = 'Files/ex_3.txt'\n",
    "pro_3 ='Files/pro_3.txt'\n",
    "f = open(pro_3, \"r\")\n",
    "f1 = f.read()\n",
    "f1_list = f1.rsplit('\\n')\n",
    "new_list = []\n",
    "for item in f1_list:\n",
    "    new_list.append(item.replace('  --->',''))\n",
    "    \n",
    "new_list\n",
    "\n",
    "count_list = []\n",
    "right = [1,3,5,7,1]\n",
    "down  = [1,1,1,1,2]\n",
    "j = 1\n",
    "\n",
    "for num, num1 in zip(right,down):\n",
    "    i = 0\n",
    "    count = 0\n",
    "    for item in new_list:\n",
    "        if num1 == 1:\n",
    "            item  = item*j\n",
    "            if item[i] == '#':\n",
    "                count += 1\n",
    "            i += num\n",
    "            j += num\n",
    "        else:\n",
    "            if(new_list.index(item))%2 ==0:\n",
    "                item  = item*j\n",
    "                if item[i] == '#':\n",
    "                    count += 1\n",
    "                i += num\n",
    "                j += num\n",
    "    print(num,num1,count,i)\n",
    "    count_list.append(count)\n",
    "    \n",
    "print(count_list)\n",
    "\n",
    "multi = 1\n",
    "for num in count_list:\n",
    "    multi = multi* num\n",
    "multi"
   ]
  },
  {
   "cell_type": "markdown",
   "metadata": {},
   "source": [
    "# --- Day 4: Passport Processing ---\n",
    "You arrive at the airport only to realize that you grabbed your North Pole Credentials instead of your passport. While these documents are extremely similar, North Pole Credentials aren't issued by a country and therefore aren't actually valid documentation for travel in most of the world.\n",
    "\n",
    "It seems like you're not the only one having problems, though; a very long line has formed for the automatic passport scanners, and the delay could upset your travel itinerary.\n",
    "\n",
    "Due to some questionable network security, you realize you might be able to solve both of these problems at the same time.\n",
    "\n",
    "The automatic passport scanners are slow because they're having trouble detecting which passports have all required fields. The expected fields are as follows:\n",
    "\n",
    "byr (Birth Year)\n",
    "iyr (Issue Year)\n",
    "eyr (Expiration Year)\n",
    "hgt (Height)\n",
    "hcl (Hair Color)\n",
    "ecl (Eye Color)\n",
    "pid (Passport ID)\n",
    "cid (Country ID)\n",
    "Passport data is validated in batch files (your puzzle input). Each passport is represented as a sequence of key:value pairs separated by spaces or newlines. Passports are separated by blank lines.\n",
    "\n",
    "Here is an example batch file containing four passports:\n",
    "\n",
    "ecl:gry pid:860033327 eyr:2020 hcl:#fffffd\n",
    "byr:1937 iyr:2017 cid:147 hgt:183cm\n",
    "\n",
    "iyr:2013 ecl:amb cid:350 eyr:2023 pid:028048884\n",
    "hcl:#cfa07d byr:1929\n",
    "\n",
    "hcl:#ae17e1 iyr:2013\n",
    "eyr:2024\n",
    "ecl:brn pid:760753108 byr:1931\n",
    "hgt:179cm\n",
    "\n",
    "hcl:#cfa07d eyr:2025 pid:166559648\n",
    "iyr:2011 ecl:brn hgt:59in\n",
    "The first passport is valid - all eight fields are present. The second passport is invalid - it is missing hgt (the Height field).\n",
    "\n",
    "The third passport is interesting; the only missing field is cid, so it looks like data from North Pole Credentials, not a passport at all! Surely, nobody would mind if you made the system temporarily ignore missing cid fields. Treat this \"passport\" as valid.\n",
    "\n",
    "The fourth passport is missing two fields, cid and byr. Missing cid is fine, but missing any other field is not, so this passport is invalid.\n",
    "\n",
    "According to the above rules, your improved system would report 2 valid passports.\n",
    "\n",
    "Count the number of valid passports - those that have all required fields. Treat cid as optional. In your batch file, how many passports are valid?\n",
    "\n",
    "Your puzzle answer was 182.\n",
    "\n"
   ]
  },
  {
   "cell_type": "code",
   "execution_count": 207,
   "metadata": {
    "scrolled": true
   },
   "outputs": [
    {
     "data": {
      "text/plain": [
       "182"
      ]
     },
     "execution_count": 207,
     "metadata": {},
     "output_type": "execute_result"
    }
   ],
   "source": [
    "import re\n",
    "from collections import defaultdict \n",
    "ex_4 = 'Files/ex_4.txt'\n",
    "pro_4 ='Files/pro_4.txt'\n",
    "f = open(pro_4, \"r\")\n",
    "f1 = f.read()\n",
    "f1_list = f1.rsplit('\\n\\n')\n",
    "f2_list = [re.split('\\n| ', line) for line in f1_list]\n",
    "f2_list\n",
    "kv_list_2 = []\n",
    "for items in f2_list:\n",
    "    kv_list = []\n",
    "#     print(items)\n",
    "    for item in items:  \n",
    "        kv_list.append(item.split(':'))\n",
    "    kv_list_2.append(kv_list)\n",
    "#     break   \n",
    "kv_list_2        \n",
    "dic ={}    \n",
    "passport_item_list = []\n",
    "for items,i in zip(kv_list_2 , range(len(f2_list))):\n",
    "    passport_item_list.append(f\"passport {i}\")\n",
    "    dic_2 = {}  \n",
    "#     print(items)\n",
    "    for key, val in items:\n",
    "#         print(key,val)\n",
    "        dic_2[key] = val\n",
    "\n",
    "        dic[f\"passport {i}\"] = dic_2\n",
    "count = 0           \n",
    "for item1 in passport_item_list:\n",
    "#     print(dic[item1].keys())\n",
    "    check =  all(item in dic[item1].keys()  for item in ['ecl', 'pid', 'eyr', 'hcl', 'byr', 'iyr',  'hgt']   )\n",
    "    if check == True:\n",
    "#         print('Valid')\n",
    "        count += 1\n",
    "#     else:\n",
    "#         print('No')\n",
    "# check =  all(item in ['ecl', 'pid', 'eyr', 'hcl', 'byr', 'iyr', 'hgt']  for item in   ['ecl', 'pid', 'eyr', 'hcl', 'byr', 'iyr', 'cid'] )\n",
    "# check\n",
    "count"
   ]
  },
  {
   "cell_type": "markdown",
   "metadata": {},
   "source": [
    "# --- Part Two ---\n",
    "The line is moving more quickly now, but you overhear airport security talking about how passports with invalid data are getting through. Better add some data validation, quick!\n",
    "\n",
    "You can continue to ignore the cid field, but each other field has strict rules about what values are valid for automatic validation:\n",
    "\n",
    "byr (Birth Year) - four digits; at least 1920 and at most 2002.\n",
    "iyr (Issue Year) - four digits; at least 2010 and at most 2020.\n",
    "eyr (Expiration Year) - four digits; at least 2020 and at most 2030.\n",
    "hgt (Height) - a number followed by either cm or in:\n",
    "If cm, the number must be at least 150 and at most 193.\n",
    "If in, the number must be at least 59 and at most 76.\n",
    "hcl (Hair Color) - a # followed by exactly six characters 0-9 or a-f.\n",
    "ecl (Eye Color) - exactly one of: amb blu brn gry grn hzl oth.\n",
    "pid (Passport ID) - a nine-digit number, including leading zeroes.\n",
    "cid (Country ID) - ignored, missing or not.\n",
    "Your job is to count the passports where all required fields are both present and valid according to the above rules. Here are some example values:\n",
    "\n",
    "byr valid:   2002\n",
    "byr invalid: 2003\n",
    "\n",
    "hgt valid:   60in\n",
    "hgt valid:   190cm\n",
    "hgt invalid: 190in\n",
    "hgt invalid: 190\n",
    "\n",
    "hcl valid:   #123abc\n",
    "hcl invalid: #123abz\n",
    "hcl invalid: 123abc\n",
    "\n",
    "ecl valid:   brn\n",
    "ecl invalid: wat\n",
    "\n",
    "pid valid:   000000001\n",
    "pid invalid: 0123456789\n",
    "Here are some invalid passports:\n",
    "\n",
    "eyr:1972 cid:100\n",
    "hcl:#18171d ecl:amb hgt:170 pid:186cm iyr:2018 byr:1926\n",
    "\n",
    "iyr:2019\n",
    "hcl:#602927 eyr:1967 hgt:170cm\n",
    "ecl:grn pid:012533040 byr:1946\n",
    "\n",
    "hcl:dab227 iyr:2012\n",
    "ecl:brn hgt:182cm pid:021572410 eyr:2020 byr:1992 cid:277\n",
    "\n",
    "hgt:59cm ecl:zzz\n",
    "eyr:2038 hcl:74454a iyr:2023\n",
    "pid:3556412378 byr:2007\n",
    "Here are some valid passports:\n",
    "\n",
    "pid:087499704 hgt:74in ecl:grn iyr:2012 eyr:2030 byr:1980\n",
    "hcl:#623a2f\n",
    "\n",
    "eyr:2029 ecl:blu cid:129 byr:1989\n",
    "iyr:2014 pid:896056539 hcl:#a97842 hgt:165cm\n",
    "\n",
    "hcl:#888785\n",
    "hgt:164cm byr:2001 iyr:2015 cid:88\n",
    "pid:545766238 ecl:hzl\n",
    "eyr:2022\n",
    "\n",
    "iyr:2010 hgt:158cm hcl:#b6652a ecl:blu byr:1944 eyr:2021 pid:093154719\n",
    "Count the number of valid passports - those that have all required fields and valid values. Continue to treat cid as optional. In your batch file, how many passports are valid?\n",
    "\n",
    "Your puzzle answer was 109.\n",
    "\n"
   ]
  },
  {
   "cell_type": "code",
   "execution_count": 21,
   "metadata": {},
   "outputs": [
    {
     "data": {
      "text/plain": [
       "109"
      ]
     },
     "execution_count": 21,
     "metadata": {},
     "output_type": "execute_result"
    }
   ],
   "source": [
    "#Validation\n",
    "def byr(item):\n",
    "    \"\"\"byr (Birth Year) - four digits; at least 1920 and at most 2002.\"\"\"\n",
    "    if len(str(item)) == 4 and 1920 <= int(item) <= 2002:\n",
    "        return True\n",
    "    else:\n",
    "        return False\n",
    "\n",
    "    \n",
    "def iyr(item):\n",
    "    \"\"\"iyr (Issue Year) - four digits; at least 2010 and at most 2020.\"\"\"\n",
    "    if len(str(item)) == 4 and 2010 <= int(item) <= 2020:\n",
    "        return True\n",
    "    else:\n",
    "        return False\n",
    "    \n",
    "def eyr(item):\n",
    "    \"\"\"eyr (Expiration Year) - four digits; at least 2020 and at most 2030..\"\"\"\n",
    "    if len(str(item)) == 4 and 2020 <= int(item) <= 2030:\n",
    "        return True\n",
    "    else:\n",
    "        return False  \n",
    "    \n",
    "def hgt(item):\n",
    "    \"\"\"hgt (Height) - a number followed by either cm or in:\n",
    "    If cm, the number must be at least 150 and at most 193.\n",
    "    If in, the number must be at least 59 and at most 76.\"\"\"\n",
    "    if(item[-2:]) == 'cm' and 150 <= int(item[:-2]) <= 193:\n",
    "        return True\n",
    "        \n",
    "    elif(item[-2:]) == 'in' and 59 <= int(item[:-2]) <= 76:\n",
    "        return True\n",
    "        \n",
    "    else:\n",
    "        return False\n",
    "\n",
    "def hcl(item):\n",
    "    \"\"\"hcl (Hair Color) - a # followed by exactly six characters 0-9 or a-f.\"\"\"\n",
    "    if item[0] == '#' and len(item[1:]) == 6 :\n",
    "        if all(item in ['0', '1', '2', '3', '4', '5', '6', '7', '8', '9','a', 'b', 'c', 'd', 'e', 'f'] for item in  item[1:]):\n",
    "            return True\n",
    "#         elif all(item in ['a', 'b', 'c', 'd', 'e', 'f'] for item in  item[1:]):\n",
    "#             return True\n",
    "        else:\n",
    "            return False\n",
    "    else:\n",
    "        return False\n",
    "        \n",
    "        \n",
    "def ecl(item):\n",
    "    \"\"\"ecl (Eye Color) - exactly one of: amb blu brn gry grn hzl oth\"\"\"\n",
    "    if any(item in  ['amb', 'blu', 'brn' ,'gry' ,'grn' ,'hzl' ,'oth'] for item in [item]):\n",
    "        return True\n",
    "    else:\n",
    "        return False\n",
    "def pid(item):\n",
    "    \"\"\"pid (Passport ID) - a nine-digit number, including leading zeroes.\"\"\"\n",
    "    if len(str(item))==9 and item.isnumeric():\n",
    "        return True\n",
    "    else:\n",
    "        return False\n",
    "        \n",
    "import re\n",
    "from collections import defaultdict \n",
    "ex_4 = 'Files/ex_4.txt'\n",
    "pro_4 ='Files/pro_4.txt'\n",
    "f = open(pro_4, \"r\")\n",
    "f1 = f.read()\n",
    "f1_list = f1.rsplit('\\n\\n')\n",
    "f2_list = [re.split('\\n| ', line) for line in f1_list]\n",
    "f2_list\n",
    "kv_list_2 = []\n",
    "for items in f2_list:\n",
    "    kv_list = []\n",
    "    for item in items:  \n",
    "        kv_list.append(item.split(':'))\n",
    "    kv_list_2.append(kv_list)\n",
    "    \n",
    "kv_list_2        \n",
    "dic ={}    \n",
    "passport_item_list = []\n",
    "for items,i in zip(kv_list_2 , range(len(f2_list))):\n",
    "    passport_item_list.append(f\"passport {i}\")\n",
    "    dic_2 = {}  \n",
    "    for key, val in items:\n",
    "        dic_2[key] = val\n",
    "\n",
    "        dic[f\"passport {i}\"] = dic_2\n",
    "count = 0           \n",
    "for item1 in passport_item_list:    \n",
    "    check =  all(item in dic[item1].keys()  for item in ['ecl', 'pid', 'eyr', 'hcl', 'byr', 'iyr',  'hgt']   )\n",
    "    if check == True and byr(dic[item1]['byr']) and ecl(dic[item1]['ecl'])and hcl(dic[item1]['hcl'])and pid(dic[item1]['pid'])and eyr(dic[item1]['eyr']) and iyr(dic[item1]['iyr']) and hgt(dic[item1]['hgt']) :\n",
    "        count += 1\n",
    "count"
   ]
  },
  {
   "cell_type": "markdown",
   "metadata": {},
   "source": [
    "# --- Day 5: Binary Boarding ---\n",
    "You board your plane only to discover a new problem: you dropped your boarding pass! You aren't sure which seat is yours, and all of the flight attendants are busy with the flood of people that suddenly made it through passport control.\n",
    "\n",
    "You write a quick program to use your phone's camera to scan all of the nearby boarding passes (your puzzle input); perhaps you can find your seat through process of elimination.\n",
    "\n",
    "Instead of zones or groups, this airline uses binary space partitioning to seat people. A seat might be specified like FBFBBFFRLR, where F means \"front\", B means \"back\", L means \"left\", and R means \"right\".\n",
    "\n",
    "The first 7 characters will either be F or B; these specify exactly one of the 128 rows on the plane (numbered 0 through 127). Each letter tells you which half of a region the given seat is in. Start with the whole list of rows; the first letter indicates whether the seat is in the front (0 through 63) or the back (64 through 127). The next letter indicates which half of that region the seat is in, and so on until you're left with exactly one row.\n",
    "\n",
    "For example, consider just the first seven characters of FBFBBFFRLR:\n",
    "\n",
    "Start by considering the whole range, rows 0 through 127.\n",
    "F means to take the lower half, keeping rows 0 through 63.\n",
    "B means to take the upper half, keeping rows 32 through 63.\n",
    "F means to take the lower half, keeping rows 32 through 47.\n",
    "B means to take the upper half, keeping rows 40 through 47.\n",
    "B keeps rows 44 through 47.\n",
    "F keeps rows 44 through 45.\n",
    "The final F keeps the lower of the two, row 44.\n",
    "The last three characters will be either L or R; these specify exactly one of the 8 columns of seats on the plane (numbered 0 through 7). The same process as above proceeds again, this time with only three steps. L means to keep the lower half, while R means to keep the upper half.\n",
    "\n",
    "For example, consider just the last 3 characters of FBFBBFFRLR:\n",
    "\n",
    "Start by considering the whole range, columns 0 through 7.\n",
    "R means to take the upper half, keeping columns 4 through 7.\n",
    "L means to take the lower half, keeping columns 4 through 5.\n",
    "The final R keeps the upper of the two, column 5.\n",
    "So, decoding FBFBBFFRLR reveals that it is the seat at row 44, column 5.\n",
    "\n",
    "Every seat also has a unique seat ID: multiply the row by 8, then add the column. In this example, the seat has ID 44 * 8 + 5 = 357.\n",
    "\n",
    "Here are some other boarding passes:\n",
    "\n",
    "BFFFBBFRRR: row 70, column 7, seat ID 567.\n",
    "FFFBBBFRRR: row 14, column 7, seat ID 119.\n",
    "BBFFBBFRLL: row 102, column 4, seat ID 820.\n",
    "As a sanity check, look through your list of boarding passes. What is the highest seat ID on a boarding pass?\n",
    "\n",
    "To begin, get your puzzle input.\n",
    "\n",
    "Your puzzle answer was 987.\n",
    "\n"
   ]
  },
  {
   "cell_type": "code",
   "execution_count": 23,
   "metadata": {},
   "outputs": [],
   "source": [
    "f = open('Files/pro-5.txt','r')\n",
    "file = f.read()\n",
    "passport_id_list = file.split()\n"
   ]
  },
  {
   "cell_type": "code",
   "execution_count": 80,
   "metadata": {},
   "outputs": [
    {
     "data": {
      "text/plain": [
       "987"
      ]
     },
     "execution_count": 80,
     "metadata": {},
     "output_type": "execute_result"
    }
   ],
   "source": [
    "\n",
    "def seatId(row,col):\n",
    "    return row*8 + col\n",
    "\n",
    "rows = 128\n",
    "lower = 1-rows/2\n",
    "upper = rows/2 - 128\n",
    "\n",
    "row_list = []\n",
    "column_list =[]\n",
    "for item1 in range(128):\n",
    "    row_list.append(item1)\n",
    "\n",
    "\n",
    "for item2 in range(8):\n",
    "    column_list.append(item2)\n",
    "    \n",
    "column_list \n",
    "\n",
    "\n",
    "def row(item, row_list):\n",
    "    mid = int(len(row_list)/2)\n",
    "    if len(row_list)== 1:\n",
    "        return row_list[0]\n",
    "    elif item == 'F':\n",
    "        lower_half = row_list[:mid]\n",
    "        return lower_half\n",
    "    elif item == 'B':\n",
    "        upper_half = row_list[mid:]\n",
    "        return upper_half\n",
    "    elif len(row_list)== 1:\n",
    "        return row_list[0]\n",
    "    elif item == 'L':\n",
    "        lower_half = row_list[:mid]\n",
    "        return lower_half\n",
    "    elif item == 'R':\n",
    "        upper_half = row_list[mid:]\n",
    "        return upper_half\n",
    "    \n",
    "    \n",
    "    \n",
    "def seatNo(boarding_pass,row_list,column_list):      \n",
    "    for item in boarding_pass: \n",
    "        if item == 'F':\n",
    "\n",
    "            remaining_list = row(item,row_list)\n",
    "            row_list = row_list[:len(remaining_list)]\n",
    "\n",
    "        elif item == 'B':\n",
    "            remaining_list = row(item,row_list)\n",
    "            row_list = row_list[len(remaining_list):]\n",
    "\n",
    "        elif  item == 'L':\n",
    "            remaining_list = row(item,row_list)\n",
    "            if str(remaining_list).isnumeric() == False:\n",
    "                row_list = row_list[:len(remaining_list)]\n",
    "\n",
    "            remaining_list = row(item,column_list)\n",
    "            if str(remaining_list).isnumeric() == False:\n",
    "                column_list = column_list[:len(remaining_list)]\n",
    "\n",
    "        elif  item == 'R':\n",
    "            remaining_list = row(item,row_list)\n",
    "            if str(remaining_list).isnumeric() == False:\n",
    "                row_list = row_list[len(remaining_list):]\n",
    "\n",
    "            remaining_list = row(item,column_list)\n",
    "            if str(remaining_list).isnumeric() == False:\n",
    "                column_list = column_list[len(remaining_list):]\n",
    "    return [row_list[0],column_list[0]]\n",
    "            \n",
    "            \n",
    "seat_id_list = []\n",
    "for item in passport_id_list: \n",
    "    seat_no = seatNo(item,row_list,column_list) \n",
    "    seat_id_list.append(seatId(seat_no[0],seat_no[1]))\n",
    "        \n",
    "max(seat_id_list)      \n",
    "        \n",
    "        "
   ]
  },
  {
   "cell_type": "markdown",
   "metadata": {},
   "source": [
    "# --- Part Two ---\n",
    "Ding! The \"fasten seat belt\" signs have turned on. Time to find your seat.\n",
    "\n",
    "It's a completely full flight, so your seat should be the only missing boarding pass in your list. However, there's a catch: some of the seats at the very front and back of the plane don't exist on this aircraft, so they'll be missing from your list as well.\n",
    "\n",
    "Your seat wasn't at the very front or back, though; the seats with IDs +1 and -1 from yours will be in your list.\n",
    "\n",
    "What is the ID of your seat?\n",
    "\n",
    "Your puzzle answer was 603.\n",
    "\n"
   ]
  },
  {
   "cell_type": "code",
   "execution_count": 110,
   "metadata": {},
   "outputs": [
    {
     "data": {
      "text/plain": [
       "603"
      ]
     },
     "execution_count": 110,
     "metadata": {},
     "output_type": "execute_result"
    }
   ],
   "source": [
    "seat_id_list.sort()\n",
    "my_seat_list = seat_id_list[8:-8]\n",
    "for previus_item, next_item in zip(my_seat_list[:-1],my_seat_list[1:]):\n",
    "#     print('previus_item', previus_item)\n",
    "#     print('next_item', next_item)\n",
    "#     print('item', item)\n",
    "    if int(next_item) - int(previus_item) != 1:\n",
    "#         print(previus_item,next_item)\n",
    "        my_seat_id = previus_item + 1\n",
    "my_seat_id"
   ]
  },
  {
   "cell_type": "code",
   "execution_count": null,
   "metadata": {},
   "outputs": [],
   "source": []
  }
 ],
 "metadata": {
  "kernelspec": {
   "display_name": "Python 3",
   "language": "python",
   "name": "python3"
  },
  "language_info": {
   "codemirror_mode": {
    "name": "ipython",
    "version": 3
   },
   "file_extension": ".py",
   "mimetype": "text/x-python",
   "name": "python",
   "nbconvert_exporter": "python",
   "pygments_lexer": "ipython3",
   "version": "3.7.9"
  }
 },
 "nbformat": 4,
 "nbformat_minor": 4
}
