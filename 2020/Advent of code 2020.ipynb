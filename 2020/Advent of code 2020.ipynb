{
 "cells": [
  {
   "cell_type": "code",
   "execution_count": null,
   "metadata": {},
   "outputs": [],
   "source": []
  },
  {
   "cell_type": "markdown",
   "metadata": {},
   "source": [
    "# Day 1: Report Repair\n",
    "After saving Christmas five years in a row, you've decided to take a vacation at a nice resort on a tropical island. Surely, Christmas will go on without you.\n",
    "\n",
    "The tropical island has its own currency and is entirely cash-only. The gold coins used there have a little picture of a starfish; the locals just call them stars. None of the currency exchanges seem to have heard of them, but somehow, you'll need to find fifty of these coins by the time you arrive so you can pay the deposit on your room.\n",
    "\n",
    "To save your vacation, you need to get all fifty stars by December 25th.\n",
    "\n",
    "Collect stars by solving puzzles. Two puzzles will be made available on each day in the Advent calendar; the second puzzle is unlocked when you complete the first. Each puzzle grants one star. Good luck!\n",
    "\n",
    "Before you leave, the Elves in accounting just need you to fix your expense report (your puzzle input); apparently, something isn't quite adding up.\n",
    "\n",
    "Specifically, they need you to find the two entries that sum to 2020 and then multiply those two numbers together.\n",
    "\n",
    "For example, suppose your expense report contained the following:\n",
    "\n",
    "1721\n",
    "979\n",
    "366\n",
    "299\n",
    "675\n",
    "1456\n",
    "In this list, the two entries that sum to 2020 are 1721 and 299. Multiplying them together produces 1721 * 299 = 514579, so the correct answer is 514579.\n",
    "\n",
    "Of course, your expense report is much larger. Find the two entries that sum to 2020; what do you get if you multiply them together?"
   ]
  },
  {
   "cell_type": "code",
   "execution_count": 38,
   "metadata": {},
   "outputs": [],
   "source": [
    "ex_1 = '01_ex.txt'\n",
    "pr_1 ='01_pro.txt'\n",
    "f = open(pr_1, \"r\")\n",
    "f1 = f.read()"
   ]
  },
  {
   "cell_type": "code",
   "execution_count": 39,
   "metadata": {},
   "outputs": [
    {
     "data": {
      "text/plain": [
       "482811"
      ]
     },
     "execution_count": 39,
     "metadata": {},
     "output_type": "execute_result"
    }
   ],
   "source": [
    "f1_list = f1.split('\\n')\n",
    "def adding(li):\n",
    "    for item1 in li:\n",
    "        li.remove(li[0])\n",
    "        for item2 in li:\n",
    "            if int(item1) + int(item2) == 2020:\n",
    "                return int(item1) * int(item2)\n",
    "adding(f1_list)\n",
    "        "
   ]
  },
  {
   "cell_type": "markdown",
   "metadata": {},
   "source": [
    "# --- Part Two ---\n",
    "The Elves in accounting are thankful for your help; one of them even offers you a starfish coin they had left over from a past vacation. They offer you a second one if you can find three numbers in your expense report that meet the same criteria.\n",
    "\n",
    "Using the above example again, the three entries that sum to 2020 are 979, 366, and 675. Multiplying them together produces the answer, 241861950.\n",
    "\n",
    "In your expense report, what is the product of the three entries that sum to 2020?"
   ]
  },
  {
   "cell_type": "code",
   "execution_count": 224,
   "metadata": {
    "scrolled": true
   },
   "outputs": [
    {
     "data": {
      "text/plain": [
       "193171814"
      ]
     },
     "execution_count": 224,
     "metadata": {},
     "output_type": "execute_result"
    }
   ],
   "source": [
    "ex_1 = '01_ex.txt'\n",
    "pr_1 ='01_pro.txt'\n",
    "f = open(pr_1, \"r\")\n",
    "f1 = f.read()\n",
    "f1_list = f1.split('\\n')\n",
    "def adding(li):\n",
    "    for item1 in li:\n",
    "        li.remove(li[0])\n",
    "        for item2 in li:            \n",
    "            for item3 in li:\n",
    "                if int(item1) + int(item2) + int(item3) == 2020:\n",
    "                    return int(item1) * int(item2)* int(item3)\n",
    "adding(f1_list)\n"
   ]
  },
  {
   "cell_type": "code",
   "execution_count": 223,
   "metadata": {},
   "outputs": [
    {
     "data": {
      "text/plain": [
       "['1860', '1428', '1706', '1432', '1532']"
      ]
     },
     "execution_count": 223,
     "metadata": {},
     "output_type": "execute_result"
    }
   ],
   "source": [
    "f1_list"
   ]
  },
  {
   "cell_type": "markdown",
   "metadata": {},
   "source": [
    "# --- Day 2: Password Philosophy ---\n",
    "Your flight departs in a few days from the coastal airport; the easiest way down to the coast from here is via toboggan.\n",
    "\n",
    "The shopkeeper at the North Pole Toboggan Rental Shop is having a bad day. \"Something's wrong with our computers; we can't log in!\" You ask if you can take a look.\n",
    "\n",
    "Their password database seems to be a little corrupted: some of the passwords wouldn't have been allowed by the Official Toboggan Corporate Policy that was in effect when they were chosen.\n",
    "\n",
    "To try to debug the problem, they have created a list (your puzzle input) of passwords (according to the corrupted database) and the corporate policy when that password was set.\n",
    "\n",
    "For example, suppose you have the following list:\n",
    "\n",
    "1-3 a: abcde\n",
    "1-3 b: cdefg\n",
    "2-9 c: ccccccccc\n",
    "Each line gives the password policy and then the password. The password policy indicates the lowest and highest number of times a given letter must appear for the password to be valid. For example, 1-3 a means that the password must contain a at least 1 time and at most 3 times.\n",
    "\n",
    "In the above example, 2 passwords are valid. The middle password, cdefg, is not; it contains no instances of b, but needs at least 1. The first and third passwords are valid: they contain one a or nine c, both within the limits of their respective policies.\n",
    "\n",
    "How many passwords are valid according to their policies?"
   ]
  },
  {
   "cell_type": "code",
   "execution_count": 226,
   "metadata": {},
   "outputs": [],
   "source": [
    "import re\n",
    "ex_2 = '02_ex.txt'\n",
    "pr_2 ='02_pro.txt'\n",
    "f = open(pr_2, \"r\")\n",
    "f1 = f.read()\n",
    "f1_list = f1.rsplit('\\n')"
   ]
  },
  {
   "cell_type": "code",
   "execution_count": 228,
   "metadata": {},
   "outputs": [
    {
     "data": {
      "text/plain": [
       "434"
      ]
     },
     "execution_count": 228,
     "metadata": {},
     "output_type": "execute_result"
    }
   ],
   "source": [
    "li1 = []\n",
    "for item1 in f1_list:\n",
    "    li1.append(re.split(': |-| ', item1))\n",
    "    li1\n",
    "# re.split('; |, |\\*|\\n',a)\n",
    "    \n",
    "def PasswordValidation(li1):\n",
    "    valid = 0\n",
    "    for item in li1:\n",
    "        count = 0\n",
    "        num1 = int(item[0])\n",
    "        num2 = int(item[1])\n",
    "        cha = item[2]\n",
    "        pwd = item[3]\n",
    "        if cha in  pwd:\n",
    "            count = pwd.count(cha)\n",
    "#             if  count >= num1 and count <= num2 :\n",
    "            if  num1 <= count <= num2 :\n",
    "#                 print('Valid',count, num1,num2,cha,pwd)\n",
    "                valid = valid+1\n",
    "        else :\n",
    "            pass\n",
    "\n",
    "    return valid\n",
    "PasswordValidation(li1)"
   ]
  },
  {
   "cell_type": "markdown",
   "metadata": {},
   "source": [
    "# --- Part Two ---\n",
    "While it appears you validated the passwords correctly, they don't seem to be what the Official Toboggan Corporate Authentication System is expecting.\n",
    "\n",
    "The shopkeeper suddenly realizes that he just accidentally explained the password policy rules from his old job at the sled rental place down the street! The Official Toboggan Corporate Policy actually works a little differently.\n",
    "\n",
    "Each policy actually describes two positions in the password, where 1 means the first character, 2 means the second character, and so on. (Be careful; Toboggan Corporate Policies have no concept of \"index zero\"!) Exactly one of these positions must contain the given letter. Other occurrences of the letter are irrelevant for the purposes of policy enforcement.\n",
    "\n",
    "Given the same example list from above:\n",
    "\n",
    "1-3 a: abcde is valid: position 1 contains a and position 3 does not.\n",
    "1-3 b: cdefg is invalid: neither position 1 nor position 3 contains b.\n",
    "2-9 c: ccccccccc is invalid: both position 2 and position 9 contain c.\n",
    "How many passwords are valid according to the new interpretation of the policies?"
   ]
  },
  {
   "cell_type": "code",
   "execution_count": 217,
   "metadata": {},
   "outputs": [
    {
     "data": {
      "text/plain": [
       "509"
      ]
     },
     "execution_count": 217,
     "metadata": {},
     "output_type": "execute_result"
    }
   ],
   "source": [
    "import re\n",
    "ex_2 = '02_ex.txt'\n",
    "pr_2 ='02_pro.txt'\n",
    "f = open(pr_2, \"r\")\n",
    "f1 = f.read()\n",
    "f1_list = f1.rsplit('\\n')\n",
    "\n",
    "li1 = []\n",
    "li2 = []\n",
    "for item1 in f1_list:\n",
    "    li1.append(re.split(': |-| ', item1))\n",
    "# re.split('; |, |\\*|\\n',a)\n",
    "    \n",
    "def PasswordValidation(li1):\n",
    "    valid = 0\n",
    "    for item in li1:\n",
    "        count = 0\n",
    "        num1 = int(item[0])\n",
    "        num2 = int(item[1])\n",
    "        cha = item[2]\n",
    "        pwd = item[3]\n",
    "        if cha in  pwd:\n",
    "            if cha == pwd[num1-1]:\n",
    "                if cha != pwd[num2-1]:\n",
    "#                     print(\"valid\")\n",
    "                    valid = valid+1\n",
    "            if cha == pwd[num2-1]:\n",
    "                if cha != pwd[num1-1]:\n",
    "#                     print(\"valid\")\n",
    "                    valid = valid+1\n",
    "        else :\n",
    "            pass\n",
    "\n",
    "    return valid\n",
    "PasswordValidation(li1)"
   ]
  },
  {
   "cell_type": "markdown",
   "metadata": {},
   "source": [
    "# --- Day 3: Toboggan Trajectory ---\n",
    "With the toboggan login problems resolved, you set off toward the airport. While travel by toboggan might be easy, it's certainly not safe: there's very minimal steering and the area is covered in trees. You'll need to see which angles will take you near the fewest trees.\n",
    "\n",
    "Due to the local geology, trees in this area only grow on exact integer coordinates in a grid. You make a map (your puzzle input) of the open squares (.) and trees (#) you can see. For example:\n",
    "\n",
    "..##.......\n",
    "#...#...#..\n",
    ".#....#..#.\n",
    "..#.#...#.#\n",
    ".#...##..#.\n",
    "..#.##.....\n",
    ".#.#.#....#\n",
    ".#........#\n",
    "#.##...#...\n",
    "#...##....#\n",
    ".#..#...#.#\n",
    "These aren't the only trees, though; due to something you read about once involving arboreal genetics and biome stability, the same pattern repeats to the right many times:\n",
    "\n",
    "..##.........##.........##.........##.........##.........##.......  --->\n",
    "#...#...#..#...#...#..#...#...#..#...#...#..#...#...#..#...#...#..\n",
    ".#....#..#..#....#..#..#....#..#..#....#..#..#....#..#..#....#..#.\n",
    "..#.#...#.#..#.#...#.#..#.#...#.#..#.#...#.#..#.#...#.#..#.#...#.#\n",
    ".#...##..#..#...##..#..#...##..#..#...##..#..#...##..#..#...##..#.\n",
    "..#.##.......#.##.......#.##.......#.##.......#.##.......#.##.....  --->\n",
    ".#.#.#....#.#.#.#....#.#.#.#....#.#.#.#....#.#.#.#....#.#.#.#....#\n",
    ".#........#.#........#.#........#.#........#.#........#.#........#\n",
    "#.##...#...#.##...#...#.##...#...#.##...#...#.##...#...#.##...#...\n",
    "#...##....##...##....##...##....##...##....##...##....##...##....#\n",
    ".#..#...#.#.#..#...#.#.#..#...#.#.#..#...#.#.#..#...#.#.#..#...#.#  --->\n",
    "You start on the open square (.) in the top-left corner and need to reach the bottom (below the bottom-most row on your map).\n",
    "\n",
    "The toboggan can only follow a few specific slopes (you opted for a cheaper model that prefers rational numbers); start by counting all the trees you would encounter for the slope right 3, down 1:\n",
    "\n",
    "From your starting position at the top-left, check the position that is right 3 and down 1. Then, check the position that is right 3 and down 1 from there, and so on until you go past the bottom of the map.\n",
    "\n",
    "The locations you'd check in the above example are marked here with O where there was an open square and X where there was a tree:\n",
    "\n",
    "..##.........##.........##.........##.........##.........##.......  --->\n",
    "#..O#...#..#...#...#..#...#...#..#...#...#..#...#...#..#...#...#..\n",
    ".#....X..#..#....#..#..#....#..#..#....#..#..#....#..#..#....#..#.\n",
    "..#.#...#O#..#.#...#.#..#.#...#.#..#.#...#.#..#.#...#.#..#.#...#.#\n",
    ".#...##..#..X...##..#..#...##..#..#...##..#..#...##..#..#...##..#.\n",
    "..#.##.......#.X#.......#.##.......#.##.......#.##.......#.##.....  --->\n",
    ".#.#.#....#.#.#.#.O..#.#.#.#....#.#.#.#....#.#.#.#....#.#.#.#....#\n",
    ".#........#.#........X.#........#.#........#.#........#.#........#\n",
    "#.##...#...#.##...#...#.X#...#...#.##...#...#.##...#...#.##...#...\n",
    "#...##....##...##....##...#X....##...##....##...##....##...##....#\n",
    ".#..#...#.#.#..#...#.#.#..#...X.#.#..#...#.#.#..#...#.#.#..#...#.#  --->\n",
    "In this example, traversing the map using this slope would cause you to encounter 7 trees.\n",
    "\n",
    "Starting at the top-left corner of your map and following a slope of right 3 and down 1, how many trees would you encounter?"
   ]
  },
  {
   "cell_type": "code",
   "execution_count": 264,
   "metadata": {},
   "outputs": [],
   "source": [
    "import re\n",
    "ex_3 = 'ex_3.txt'\n",
    "pro_3 ='pro_3.txt'\n",
    "f = open(pro_3, \"r\")\n",
    "f1 = f.read()\n",
    "f1_list = f1.rsplit('\\n')\n"
   ]
  },
  {
   "cell_type": "code",
   "execution_count": 265,
   "metadata": {},
   "outputs": [],
   "source": [
    "new_list = []\n",
    "for item in f1_list:\n",
    "    new_list.append(item.replace('  --->',''))\n",
    "    "
   ]
  },
  {
   "cell_type": "code",
   "execution_count": 275,
   "metadata": {},
   "outputs": [
    {
     "name": "stdout",
     "output_type": "stream",
     "text": [
      "220\n"
     ]
    }
   ],
   "source": [
    "new_list\n",
    "count = 0\n",
    "i = 0\n",
    "j = 1\n",
    "for item in new_list:\n",
    "    item  = item*j\n",
    "#     print(item)\n",
    "    if item[i] == '#':\n",
    "        count += 1\n",
    "    i += 3\n",
    "    j += 2\n",
    "print(count)"
   ]
  },
  {
   "cell_type": "markdown",
   "metadata": {},
   "source": [
    "# --- Part Two ---\n",
    "Time to check the rest of the slopes - you need to minimize the probability of a sudden arboreal stop, after all.\n",
    "\n",
    "Determine the number of trees you would encounter if, for each of the following slopes, you start at the top-left corner and traverse the map all the way to the bottom:\n",
    "\n",
    "Right 1, down 1.\n",
    "Right 3, down 1. (This is the slope you already checked.)\n",
    "Right 5, down 1.\n",
    "Right 7, down 1.\n",
    "Right 1, down 2.\n",
    "In the above example, these slopes would find 2, 7, 3, 4, and 2 tree(s) respectively; multiplied together, these produce the answer 336.\n",
    "\n",
    "What do you get if you multiply together the number of trees encountered on each of the listed slopes?"
   ]
  },
  {
   "cell_type": "code",
   "execution_count": 327,
   "metadata": {},
   "outputs": [
    {
     "name": "stdout",
     "output_type": "stream",
     "text": [
      "1 1 70 323\n",
      "3 1 220 969\n",
      "5 1 63 1615\n",
      "7 1 76 2261\n",
      "1 2 29 162\n",
      "[70, 220, 63, 76, 29]\n"
     ]
    },
    {
     "data": {
      "text/plain": [
       "2138320800"
      ]
     },
     "execution_count": 327,
     "metadata": {},
     "output_type": "execute_result"
    }
   ],
   "source": [
    "import re\n",
    "ex_3 = 'ex_3.txt'\n",
    "pro_3 ='pro_3.txt'\n",
    "f = open(pro_3, \"r\")\n",
    "f1 = f.read()\n",
    "f1_list = f1.rsplit('\\n')\n",
    "new_list = []\n",
    "for item in f1_list:\n",
    "    new_list.append(item.replace('  --->',''))\n",
    "    \n",
    "new_list\n",
    "\n",
    "count_list = []\n",
    "right = [1,3,5,7,1]\n",
    "down  = [1,1,1,1,2]\n",
    "j = 1\n",
    "\n",
    "for num, num1 in zip(right,down):\n",
    "    i = 0\n",
    "    count = 0\n",
    "    for item in new_list:\n",
    "        if num1 == 1:\n",
    "            item  = item*j\n",
    "            if item[i] == '#':\n",
    "                count += 1\n",
    "            i += num\n",
    "            j += num\n",
    "        else:\n",
    "            if(new_list.index(item))%2 ==0:\n",
    "                item  = item*j\n",
    "                if item[i] == '#':\n",
    "                    count += 1\n",
    "                i += num\n",
    "                j += num\n",
    "    print(num,num1,count,i)\n",
    "    count_list.append(count)\n",
    "    \n",
    "print(count_list)\n",
    "\n",
    "multi = 1\n",
    "for num in count_list:\n",
    "    multi = multi* num\n",
    "multi"
   ]
  },
  {
   "cell_type": "code",
   "execution_count": null,
   "metadata": {},
   "outputs": [],
   "source": []
  }
 ],
 "metadata": {
  "kernelspec": {
   "display_name": "Python 3",
   "language": "python",
   "name": "python3"
  },
  "language_info": {
   "codemirror_mode": {
    "name": "ipython",
    "version": 3
   },
   "file_extension": ".py",
   "mimetype": "text/x-python",
   "name": "python",
   "nbconvert_exporter": "python",
   "pygments_lexer": "ipython3",
   "version": "3.7.9"
  }
 },
 "nbformat": 4,
 "nbformat_minor": 4
}
